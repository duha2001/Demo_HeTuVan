{
 "cells": [
  {
   "cell_type": "markdown",
   "metadata": {
    "collapsed": true
   },
   "source": [
    "# Matrix Factorization\n"
   ]
  },
  {
   "cell_type": "markdown",
   "metadata": {},
   "source": [
    "## Khởi tạo và chuẩn hóa ma trận\n"
   ]
  },
  {
   "cell_type": "code",
   "execution_count": 1,
   "metadata": {},
   "outputs": [
    {
     "name": "stdout",
     "output_type": "stream",
     "text": [
      "iter = 1000 , loss = 0.5093660341261714 , RMSE train = 0.7971830482859001\n"
     ]
    },
    {
     "data": {
      "text/plain": [
       "2.933193027054375"
      ]
     },
     "execution_count": 1,
     "metadata": {},
     "output_type": "execute_result"
    }
   ],
   "source": [
    "import pandas as pd\n",
    "import numpy as np\n",
    "from sklearn.metrics.pairwise import cosine_similarity\n",
    "from scipy import sparse\n",
    "\n",
    "\n",
    "class MF(object):\n",
    "    \"\"\"docstring for CF\"\"\"\n",
    "\n",
    "    def __init__(self, Y_data, K, lam=0.1, Xinit=None, Winit=None,\n",
    "                learning_rate=0.5, max_iter=1000, print_every=100, user_based=1):\n",
    "        self.Y_raw_data = Y_data\n",
    "        self.K = K\n",
    "        # Tham số chính quy\n",
    "        self.lam = lam\n",
    "        # Tỉ lệ học\n",
    "        self.learning_rate = learning_rate\n",
    "        # Tối đa số lần lặp\n",
    "        self.max_iter = max_iter\n",
    "        # In kết quả sau lần lặp print_every\n",
    "        self.print_every = print_every\n",
    "        self.user_based = user_based\n",
    "        # Số lượng người dùng và items, thêm 1 vì id bắt đầu từ 0\n",
    "        self.n_users = int(np.max(Y_data[:, 0])) + 1\n",
    "        self.n_items = int(np.max(Y_data[:, 1])) + 1\n",
    "\n",
    "        if Xinit is None:\n",
    "            self.X = np.random.randn(self.n_items, K)\n",
    "        else:\n",
    "            self.X = Xinit\n",
    "\n",
    "        if Winit is None:\n",
    "            self.W = np.random.randn(K, self.n_users)\n",
    "        else:\n",
    "            self.W = Winit\n",
    "\n",
    "        self.n_ratings = Y_data.shape[0]\n",
    "        # Chuẩn hóa dữ liệu\n",
    "        self.Y_data_n = self.Y_raw_data.copy()\n",
    "\n",
    "    def normalize_Y(self):\n",
    "        if self.user_based:\n",
    "            user_col = 0\n",
    "            item_col = 1\n",
    "            n_objects = self.n_users\n",
    "        # Chuẩn hóa dựa trên mục, chỉ cần chuyển hai cột dữ liệu đầu tiên\n",
    "        else:\n",
    "            user_col = 1\n",
    "            item_col = 0\n",
    "            n_objects = self.n_items\n",
    "\n",
    "        users = self.Y_raw_data[:, user_col]\n",
    "        self.mu = np.zeros((n_objects,))\n",
    "        for n in range(n_objects):\n",
    "            # Chỉ số xếp hạng hàng được thực hiện bởi người dùng n\n",
    "            # Chuyển đổi các chỉ số phải là số nguyên\n",
    "            ids = np.where(users == n)[0].astype(np.int32)\n",
    "            # Chỉ số của tất cả các xếp hạng được liên kết với người dùng n\n",
    "            item_ids = self.Y_data_n[ids, item_col]\n",
    "            # Xếp hạng tương ứng\n",
    "            ratings = self.Y_data_n[ids, 2]\n",
    "            # Tính kết quả trung bình của ratings\n",
    "            m = np.mean(ratings)\n",
    "            if np.isnan(m):\n",
    "                m = 0  # Gán m = 0 để tránh giá trị rỗng và NaN\n",
    "            self.mu[n] = m\n",
    "            # normalize\n",
    "            self.Y_data_n[ids, 2] = ratings - self.mu[n]\n",
    "\n",
    "    def loss(self):\n",
    "        L = 0\n",
    "        for i in range(self.Y_data_n.shape[0]):\n",
    "            # user, item, rating\n",
    "            n, m, rate = int(self.Y_data_n[i, 0]), int(\n",
    "                self.Y_data_n[i, 1]), self.Y_data_n[i, 2]\n",
    "            L += 0.5*(rate - self.X[m, :].dot(self.W[:, n]))**2\n",
    "\n",
    "        # Chính quy hóa\n",
    "        L /= self.n_ratings\n",
    "        L += 0.5*self.lam*(np.linalg.norm(self.X, 'fro') +\n",
    "                        np.linalg.norm(self.W, 'fro'))\n",
    "        return L\n",
    "\n",
    "    def get_items_rated_by_user(self, user_id):\n",
    "        \"\"\"\n",
    "        Nhận tất cả các mục được người dùng n xếp hạng và xếp hạng tương ứng\n",
    "        \"\"\"\n",
    "        # y = self.Y_data_n[:,0] # all users (may be duplicated)\n",
    "        # Chỉ số mục do user_id xếp hạng\n",
    "        # Cần phải + 1 tới user_id vì trong rate_matrix id được bắt đầu bằng 1\n",
    "        # Chỉ mục trong python được tính từ 0\n",
    "        ids = np.where(self.Y_data_n[:, 0] == user_id)[0]\n",
    "        item_ids = self.Y_data_n[ids, 1].astype(\n",
    "            np.int32)  # index starts from 0\n",
    "        ratings = self.Y_data_n[ids, 2]\n",
    "        return (item_ids, ratings)\n",
    "\n",
    "    def get_users_who_rate_item(self, item_id):\n",
    "        \"\"\"\n",
    "        Nhận tất cả users đánh giá item m và xếp hạng tương ứng\n",
    "        \"\"\"\n",
    "        ids = np.where(self.Y_data_n[:, 1] == item_id)[0]\n",
    "        user_ids = self.Y_data_n[ids, 0].astype(np.int32)\n",
    "        ratings = self.Y_data_n[ids, 2]\n",
    "        return (user_ids, ratings)\n",
    "\n",
    "    def updateX(self):\n",
    "        for m in range(self.n_items):\n",
    "            user_ids, ratings = self.get_users_who_rate_item(m)\n",
    "            Wm = self.W[:, user_ids]\n",
    "            grad_xm = -(ratings - self.X[m, :].dot(Wm)).dot(Wm.T)/self.n_ratings + \\\n",
    "                self.lam*self.X[m, :]\n",
    "            self.X[m, :] -= self.learning_rate*grad_xm.reshape((self.K,))\n",
    "\n",
    "    def updateW(self):\n",
    "        for n in range(self.n_users):\n",
    "            item_ids, ratings = self.get_items_rated_by_user(n)\n",
    "            Xn = self.X[item_ids, :]\n",
    "            grad_wn = -Xn.T.dot(ratings - Xn.dot(self.W[:, n]))/self.n_ratings + \\\n",
    "                self.lam*self.W[:, n]\n",
    "            self.W[:, n] -= self.learning_rate*grad_wn.reshape((self.K,))\n",
    "\n",
    "    def fit(self):\n",
    "        self.normalize_Y()\n",
    "        for it in range(self.max_iter):\n",
    "            self.updateX()\n",
    "            self.updateW()\n",
    "            if (it + 1) % self.print_every == 0:\n",
    "                rmse_train = self.evaluate_RMSE(self.Y_raw_data)\n",
    "                print('iter =', it + 1, ', loss =',\n",
    "                    self.loss(), ', RMSE train =', rmse_train)\n",
    "\n",
    "    def pred(self, u, i):\n",
    "        \"\"\" \n",
    "        Dự đoán xếp hạng của người dùng u cho item i\n",
    "        \"\"\"\n",
    "        u = int(u)\n",
    "        i = int(i)\n",
    "\n",
    "        if self.user_based:\n",
    "            bias = self.mu[u]\n",
    "        else:\n",
    "            bias = self.mu[i]\n",
    "        pred = self.X[i, :].dot(self.W[:, u]) + bias\n",
    "        if pred < 1:\n",
    "            return 1\n",
    "        if pred > 5:\n",
    "            return 5\n",
    "        return pred\n",
    "\n",
    "    def pred_for_user(self, user_id):\n",
    "        ids = np.where(self.Y_data_n[:, 0] == user_id)[0]\n",
    "        items_rated_by_u = self.Y_data_n[ids, 1].tolist()\n",
    "\n",
    "        y_pred = self.X.dot(self.W[:, user_id]) + self.mu[user_id]\n",
    "        predicted_ratings = []\n",
    "        for i in range(self.n_items):\n",
    "            if i not in items_rated_by_u:\n",
    "                predicted_ratings.append((i, y_pred[i]))\n",
    "\n",
    "        return predicted_ratings\n",
    "\n",
    "    def evaluate_RMSE(self, rate_test):\n",
    "        n_tests = rate_test.shape[0]\n",
    "        SE = 0  # Lỗi bình phương\n",
    "        for n in range(n_tests):\n",
    "            pred = self.pred(rate_test[n, 0], rate_test[n, 1])\n",
    "            SE += (pred - rate_test[n, 2])**2\n",
    "\n",
    "        RMSE = np.sqrt(SE/n_tests)\n",
    "        return RMSE\n",
    "\n",
    "\n",
    "r_cols = ['user_id', 'item_id', 'rating']\n",
    "ratings = pd.read_csv('ex.dat', sep=' ', names=r_cols, encoding='latin-1')\n",
    "Y_data = ratings.values\n",
    "\n",
    "\n",
    "rs = MF(Y_data, K=2, max_iter=1000, print_every=1000)\n",
    "\n",
    "rs.fit()\n",
    "rs.pred(6, 1)\n"
   ]
  },
  {
   "cell_type": "code",
   "execution_count": 2,
   "metadata": {},
   "outputs": [
    {
     "name": "stdout",
     "output_type": "stream",
     "text": [
      "[[4.1656273  4.01700146 1.80621594 0.2203071  1.71805744 1.43203371\n",
      "  2.36978586]\n",
      " [3.65928493 3.29021224 2.21260546 0.81677516 2.1444647  1.47801122\n",
      "  2.93319303]\n",
      " [4.0027105  3.85436697 1.87505243 0.46408714 1.87162249 1.42396211\n",
      "  2.46778697]\n",
      " [2.44440578 1.69636391 3.05727647 2.35711016 3.20201973 1.54017815\n",
      "  4.10962934]\n",
      " [2.25733488 1.32169047 3.29972566 2.5001616  3.33515857 1.59125028\n",
      "  4.44192582]]\n"
     ]
    }
   ],
   "source": [
    "print(rs.X.dot(rs.W) + rs.mu)\n"
   ]
  },
  {
   "cell_type": "markdown",
   "metadata": {},
   "source": [
    "# Áp dụng lên MovieLens 100k\n"
   ]
  },
  {
   "cell_type": "code",
   "execution_count": 3,
   "metadata": {
    "collapsed": true
   },
   "outputs": [],
   "source": [
    "r_cols = ['user_id', 'movie_id', 'rating', 'unix_timestamp']\n",
    "\n",
    "ratings_base = pd.read_csv('ml-100k/ub.base', sep='\\t',\n",
    "                           names=r_cols, encoding='latin-1')\n",
    "ratings_test = pd.read_csv('ml-100k/ub.test', sep='\\t',\n",
    "                           names=r_cols, encoding='latin-1')\n",
    "\n",
    "rate_train = ratings_base.values\n",
    "rate_test = ratings_test.values\n",
    "\n",
    "# Chỉ số bắt đầu từ 0\n",
    "rate_train[:, :2] -= 1\n",
    "rate_test[:, :2] -= 1\n"
   ]
  },
  {
   "cell_type": "code",
   "execution_count": 4,
   "metadata": {},
   "outputs": [
    {
     "name": "stdout",
     "output_type": "stream",
     "text": [
      "iter = 10 , loss = 5.623838819820887 , RMSE train = 1.1964447545558297\n",
      "iter = 20 , loss = 2.631475900420379 , RMSE train = 1.0376697790632379\n",
      "iter = 30 , loss = 1.33993718076647 , RMSE train = 1.02957166403085\n",
      "iter = 40 , loss = 0.7512801947384818 , RMSE train = 1.0292248283935725\n",
      "iter = 50 , loss = 0.4814993207408244 , RMSE train = 1.0292133412902826\n",
      "iter = 60 , loss = 0.35779034319396386 , RMSE train = 1.0292139102732973\n",
      "iter = 70 , loss = 0.30105984559137006 , RMSE train = 1.0292142181448982\n",
      "iter = 80 , loss = 0.2750441884405376 , RMSE train = 1.0292143030362113\n",
      "iter = 90 , loss = 0.26311383315258896 , RMSE train = 1.0292143242657077\n",
      "iter = 100 , loss = 0.2576427655947336 , RMSE train = 1.0292143294023373\n",
      "\n",
      "User-based MF, RMSE = 1.0603799055180005\n"
     ]
    }
   ],
   "source": [
    "rs = MF(rate_train, K=10, lam=.1, print_every=10,\n",
    "        learning_rate=0.75, max_iter=100, user_based=1)\n",
    "rs.fit()\n",
    "# Đánh giá trên dữ liệu thử nghiệm\n",
    "RMSE = rs.evaluate_RMSE(rate_test)\n",
    "print('\\nUser-based MF, RMSE =', RMSE)\n"
   ]
  },
  {
   "cell_type": "code",
   "execution_count": 5,
   "metadata": {},
   "outputs": [
    {
     "name": "stderr",
     "output_type": "stream",
     "text": [
      "/Library/Frameworks/Python.framework/Versions/3.10/lib/python3.10/site-packages/numpy/core/fromnumeric.py:3432: RuntimeWarning: Mean of empty slice.\n",
      "  return _methods._mean(a, axis=axis, dtype=dtype,\n",
      "/Library/Frameworks/Python.framework/Versions/3.10/lib/python3.10/site-packages/numpy/core/_methods.py:190: RuntimeWarning: invalid value encountered in double_scalars\n",
      "  ret = ret.dtype.type(ret / rcount)\n"
     ]
    },
    {
     "name": "stdout",
     "output_type": "stream",
     "text": [
      "iter = 10 , loss = 5.627300815677279 , RMSE train = 1.1759647866308531\n",
      "iter = 20 , loss = 2.6193741595966102 , RMSE train = 1.0052778973877226\n",
      "iter = 30 , loss = 1.3250750046123816 , RMSE train = 0.9965435064507597\n",
      "iter = 40 , loss = 0.7352902392363744 , RMSE train = 0.9961867781427354\n",
      "iter = 50 , loss = 0.4649860406314433 , RMSE train = 0.9961787000181426\n",
      "iter = 60 , loss = 0.34103390141671786 , RMSE train = 0.9961802195401405\n",
      "iter = 70 , loss = 0.28419100621754856 , RMSE train = 0.9961807357151344\n",
      "iter = 80 , loss = 0.2581235473766677 , RMSE train = 0.9961808643812019\n",
      "iter = 90 , loss = 0.24616935118952127 , RMSE train = 0.9961808947310101\n",
      "iter = 100 , loss = 0.2406873183932131 , RMSE train = 0.9961809017643232\n",
      "\n",
      "Item-based MF, RMSE = 1.0486424539909174\n"
     ]
    }
   ],
   "source": [
    "rs = MF(rate_train, K=10, lam=.1, print_every=10,\n",
    "        learning_rate=0.75, max_iter=100, user_based=0)\n",
    "rs.fit()\n",
    "# Đánh giá trên dữ liệu thử nghiệm\n",
    "RMSE = rs.evaluate_RMSE(rate_test)\n",
    "print('\\nItem-based MF, RMSE =', RMSE)\n"
   ]
  },
  {
   "cell_type": "code",
   "execution_count": 6,
   "metadata": {},
   "outputs": [
    {
     "name": "stdout",
     "output_type": "stream",
     "text": [
      "iter = 10 , loss = 1.0829562408750968 , RMSE train = 1.4212725301333173\n",
      "iter = 20 , loss = 1.0262379415927207 , RMSE train = 1.4055257721440935\n",
      "iter = 30 , loss = 0.9755228320005906 , RMSE train = 1.3905237849533638\n",
      "iter = 40 , loss = 0.9299669098542266 , RMSE train = 1.376209933862853\n",
      "iter = 50 , loss = 0.888871471060061 , RMSE train = 1.362594825251479\n",
      "iter = 60 , loss = 0.8516538552854371 , RMSE train = 1.349657297603167\n",
      "iter = 70 , loss = 0.8178248796755295 , RMSE train = 1.3373137448648758\n",
      "iter = 80 , loss = 0.78697126033549 , RMSE train = 1.325564912472822\n",
      "iter = 90 , loss = 0.7587417944789745 , RMSE train = 1.3143856325750538\n",
      "iter = 100 , loss = 0.7328364069464384 , RMSE train = 1.3037201004671581\n",
      "\n",
      "Item-based MF, RMSE = 1.3895662847193322\n"
     ]
    }
   ],
   "source": [
    "rs = MF(rate_train, K=2, lam=0, print_every=10,\n",
    "        learning_rate=1, max_iter=100, user_based=0)\n",
    "rs.fit()\n",
    "# Đánh giá trên dữ liệu thử nghiệm\n",
    "RMSE = rs.evaluate_RMSE(rate_test)\n",
    "print('\\nItem-based MF, RMSE =', RMSE)\n"
   ]
  },
  {
   "cell_type": "code",
   "execution_count": 7,
   "metadata": {
    "collapsed": true
   },
   "outputs": [],
   "source": [
    "RMSE = rs.evaluate_RMSE(rate_train)\n"
   ]
  },
  {
   "cell_type": "code",
   "execution_count": 8,
   "metadata": {},
   "outputs": [
    {
     "name": "stdout",
     "output_type": "stream",
     "text": [
      "1.3037201004671581\n"
     ]
    }
   ],
   "source": [
    "print(RMSE)\n"
   ]
  },
  {
   "cell_type": "markdown",
   "metadata": {},
   "source": [
    "# MovieLens 1M\n"
   ]
  },
  {
   "cell_type": "code",
   "execution_count": 9,
   "metadata": {},
   "outputs": [
    {
     "name": "stderr",
     "output_type": "stream",
     "text": [
      "/var/folders/mx/__zp2dyx02g_k1_g_3n5xcrc0000gn/T/ipykernel_34684/3273828672.py:3: ParserWarning: Falling back to the 'python' engine because the 'c' engine does not support regex separators (separators > 1 char and different from '\\s+' are interpreted as regex); you can avoid this warning by specifying engine='python'.\n",
      "  ratings_base = pd.read_csv('ml-1m/ratings.dat', sep='::', names=r_cols, encoding='latin-1')\n"
     ]
    }
   ],
   "source": [
    "r_cols = ['user_id', 'movie_id', 'rating', 'unix_timestamp']\n",
    "\n",
    "ratings_base = pd.read_csv(\n",
    "    'ml-1m/ratings.dat', sep='::', names=r_cols, encoding='latin-1')\n"
   ]
  },
  {
   "cell_type": "code",
   "execution_count": 1,
   "metadata": {
    "collapsed": true
   },
   "outputs": [
    {
     "ename": "NameError",
     "evalue": "name 'ratings_base' is not defined",
     "output_type": "error",
     "traceback": [
      "\u001b[0;31m---------------------------------------------------------------------------\u001b[0m",
      "\u001b[0;31mNameError\u001b[0m                                 Traceback (most recent call last)",
      "Cell \u001b[0;32mIn [1], line 2\u001b[0m\n\u001b[1;32m      1\u001b[0m \u001b[38;5;28;01mfrom\u001b[39;00m \u001b[38;5;21;01msklearn\u001b[39;00m\u001b[38;5;21;01m.\u001b[39;00m\u001b[38;5;21;01mmodel_selection\u001b[39;00m \u001b[38;5;28;01mimport\u001b[39;00m train_test_split\n\u001b[0;32m----> 2\u001b[0m ratings \u001b[38;5;241m=\u001b[39m \u001b[43mratings_base\u001b[49m\u001b[38;5;241m.\u001b[39mvalues\n\u001b[1;32m      3\u001b[0m ratings[:, :\u001b[38;5;241m2\u001b[39m] \u001b[38;5;241m-\u001b[39m\u001b[38;5;241m=\u001b[39m \u001b[38;5;241m1\u001b[39m\n\u001b[1;32m      6\u001b[0m rate_train, rate_test \u001b[38;5;241m=\u001b[39m train_test_split(\n\u001b[1;32m      7\u001b[0m     ratings, test_size\u001b[38;5;241m=\u001b[39m\u001b[38;5;241m0.33\u001b[39m, random_state\u001b[38;5;241m=\u001b[39m\u001b[38;5;241m42\u001b[39m)\n",
      "\u001b[0;31mNameError\u001b[0m: name 'ratings_base' is not defined"
     ]
    }
   ],
   "source": [
    "from sklearn.model_selection import train_test_split\n",
    "ratings = ratings_base.values\n",
    "ratings[:, :2] -= 1\n",
    "\n",
    "\n",
    "rate_train, rate_test = train_test_split(\n",
    "    ratings, test_size=0.33, random_state=42)\n",
    "print(rate_train.shape, rate_test.shape)\n",
    "\n",
    "rs = MF(rate_train, K=2, lam=0.1, print_every=2,\n",
    "        learning_rate=2, max_iter=10, user_based=0)\n",
    "rs.fit()\n",
    "# Đánh giá trên dữ liệu thử nghiệm\n",
    "RMSE = rs.evaluate_RMSE(rate_test)\n",
    "print('\\nItem-based MF, RMSE =', RMSE)\n"
   ]
  },
  {
   "cell_type": "code",
   "execution_count": null,
   "metadata": {
    "collapsed": true
   },
   "outputs": [],
   "source": []
  }
 ],
 "metadata": {
  "kernelspec": {
   "display_name": "Python 3.10.0 64-bit",
   "language": "python",
   "name": "python3"
  },
  "language_info": {
   "codemirror_mode": {
    "name": "ipython",
    "version": 3
   },
   "file_extension": ".py",
   "mimetype": "text/x-python",
   "name": "python",
   "nbconvert_exporter": "python",
   "pygments_lexer": "ipython3",
   "version": "3.10.0"
  },
  "vscode": {
   "interpreter": {
    "hash": "aee8b7b246df8f9039afb4144a1f6fd8d2ca17a180786b69acc140d282b71a49"
   }
  }
 },
 "nbformat": 4,
 "nbformat_minor": 2
}
